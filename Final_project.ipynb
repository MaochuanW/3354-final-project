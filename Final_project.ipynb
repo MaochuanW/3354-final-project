{
 "cells": [
  {
   "cell_type": "markdown",
   "id": "09615447-af01-4d27-b608-81964face3aa",
   "metadata": {},
   "source": [
    "# How proximity to volcano hazards affects housing value, income, and demographic distribution of people in Big Island, Hawaii."
   ]
  },
  {
   "cell_type": "markdown",
   "id": "b08e904e-1f45-4832-ae5c-3cfcbab93715",
   "metadata": {},
   "source": [
    "For this project, I will be working with census data of Hawaii and other GIS data to make an interactive map that shows the distribution of housing value and demographic income data in relation to the proximity of volcanoes on the big island in Hawaii. This juypter notebook consists of using various python packages to add interactivity to my final project. In addition, there are maps that uses census block data along with interactivity functions to let people explore census data.  "
   ]
  },
  {
   "cell_type": "code",
   "execution_count": null,
   "id": "43fde3b4-50fa-4799-925f-28b039030f5f",
   "metadata": {},
   "outputs": [],
   "source": [
    "! pip install leafmap\n",
    "import fiona\n",
    "import os\n",
    "import numpy as np\n",
    "import json\n",
    "import pandas as pd\n",
    "import geopandas as gpd\n",
    "import folium\n",
    "import matplotlib.pyplot as plt\n",
    "from ipywidgets import interact, interactive, fixed, interact_manual, FloatSlider, IntSlider, ColorPicker, jslink, IntRangeSlider\n",
    "import ipywidgets as widgets\n",
    "from ipyleaflet import WidgetControl\n",
    "from ipyleaflet import Map, basemaps, basemap_to_tiles, MagnifyingGlass, MeasureControl, GeoData, LayersControl, DrawControl, WidgetControl,LegendControl, SearchControl, Marker, AwesomeIcon\n",
    "from ipyleaflet import *\n",
    "import itertools \n",
    "import ipyleaflet\n",
    "from branca.colormap import linear\n",
    "import leafmap # This is a super cool package!!\n",
    "import leafmap.colormaps as cm"
   ]
  },
  {
   "cell_type": "markdown",
   "id": "948875b7-2cfb-4c20-b8dd-a19273c11d15",
   "metadata": {},
   "source": [
    "# First, Lets see what an eruption looks like!!\n"
   ]
  },
  {
   "cell_type": "markdown",
   "id": "3d6aa747-1750-4cdc-807f-330dac8d2f88",
   "metadata": {},
   "source": [
    "Do you see the volcano fire in the SouthEast part of the island??"
   ]
  },
  {
   "cell_type": "code",
   "execution_count": null,
   "id": "1f14bf5d-7d39-4b9e-8ca1-9308fa516ea8",
   "metadata": {},
   "outputs": [],
   "source": [
    "# comparsion map of what the eruption look like\n",
    "m = Map(center=(19.441755, -155.444437), zoom=9) # Making a map\n",
    "\n",
    "right_layer = basemap_to_tiles(basemaps.NASAGIBS.ModisTerraTrueColorCR, \"2020-12-23\") # Modis satellite true color bands\n",
    "left_layer = basemap_to_tiles(basemaps.NASAGIBS.ModisAquaBands721CR, \"2020-12-23\") # Modis satellite aqua bands\n",
    "\n",
    "marker1 = Marker(name='marker1', location=(19.44,-155.30))  # Change the marker style\n",
    "m.add_layer(marker1)\n",
    "\n",
    "control = SplitMapControl(left_layer=left_layer, right_layer=right_layer) # Adding split map control function to the map\n",
    "m.add_control(control)\n",
    "\n",
    "m"
   ]
  },
  {
   "cell_type": "markdown",
   "id": "e1f8b113-9ff8-4666-bc8a-aa7f1f5a0cc7",
   "metadata": {},
   "source": [
    "# Let's check out the lava hazard index on Big Island."
   ]
  },
  {
   "cell_type": "code",
   "execution_count": null,
   "id": "52c93001-9929-4cdd-9889-2edb49483131",
   "metadata": {
    "tags": []
   },
   "outputs": [],
   "source": [
    "#lava hazard\n",
    "hazard_file = gpd.read_file(\"lava_hazard.shp\") # read lava hazard shapefile and assign to a variable\n",
    "hazard_map= hazard_file.explore(column=\"SEVERITYCO\", name = \"Severity\",cmap = \"Reds\") # Set the parameter\n",
    "folium.LayerControl().add_to(hazard_map) # Add map control to the map\n",
    "hazard_map"
   ]
  },
  {
   "cell_type": "markdown",
   "id": "386694c2-f2dd-4fb3-bec7-50d0c09ef702",
   "metadata": {},
   "source": [
    "# Adding interactivity to display blocks by income level\n"
   ]
  },
  {
   "cell_type": "code",
   "execution_count": null,
   "id": "e8a2610b-1f65-439b-ab02-376adc6c102a",
   "metadata": {},
   "outputs": [],
   "source": [
    "# Define a feature that reads shapefiles\n",
    "def readfeatures(shpfilename): \n",
    "    fh = fiona.open(shpfilename, 'r')\n",
    "    featurelist = [] # create an empty list\n",
    "    for feature in fh: # loop over features in shapefile\n",
    "        featurelist.append(feature) # append each feature to the empty list\n",
    "    fh.close() # close the shapefile\n",
    "    return featurelist\n",
    "\n",
    "#returns a basic folium map\n",
    "def createbasicmap(zoom_level = 6):\n",
    "    m = folium.Map(location=[19.741755, -155.844437], zoom_start=zoom_level) # Create a folium map\n",
    "    return m\n",
    "\n",
    "# Add shapefile feature to the map\n",
    "def addfeaturetomap(feature,folium_map):\n",
    "    j = json.dumps(feature)  # dumps the features\n",
    "    folium.features.GeoJson(j).add_to(folium_map) # add the features to the map\n",
    "\n",
    "    \n",
    "# Define a function that only shows block groups that are fallen within a income range\n",
    "\n",
    "my_map = createbasicmap() # assign a variable to the basic map function\n",
    "feature_list = readfeatures(\"Median_Income.shp\") # assign variable to the shapefile\n",
    "\n",
    "def map_some_tracts(income):\n",
    "    my_map = createbasicmap() # create basic map\n",
    "    \n",
    "    for feature in feature_list: # loop over feature in feature list \n",
    "        if feature['properties']['JOIE001'] <= income: # set conditionals to make the interactivev slider only show income within certain values\n",
    "            addfeaturetomap(feature, my_map) # add conditional features to the map\n",
    "    return my_map\n",
    "\n",
    "interact(map_some_tracts, income= 50000) # function call"
   ]
  },
  {
   "cell_type": "markdown",
   "id": "3049f1de-b236-46c2-bf31-cd9c21cf95fe",
   "metadata": {},
   "source": [
    "# Let's explore Hawaii!"
   ]
  },
  {
   "cell_type": "code",
   "execution_count": null,
   "id": "086c8ba2-5665-40bd-8202-2796be89de79",
   "metadata": {},
   "outputs": [],
   "source": [
    "m = Map(center=(19.94,-155.04), zoom = 7, basemap= basemaps.Esri.WorldTopoMap) # create a map with parameters\n",
    "demo_maps = gpd.read_file(\"Demographics.shp\") # assign variable \n",
    "geo_data = GeoData(geo_dataframe = demo_maps,\n",
    "                   style={'color': 'red', 'fillColor': '#0000FF', 'opacity':0.1, 'weight':0.1, 'dashArray':'9', 'fillOpacity':0.3},\n",
    "                   hover_style={'fillColor': 'red' , 'fillOpacity': 0.2},\n",
    "                   name = 'Blocks') # set the parameters\n",
    "\n",
    "m.add_layer(geo_data) # add the geodata to the map\n",
    "m"
   ]
  },
  {
   "cell_type": "markdown",
   "id": "5f7bd140-5623-40bb-8a71-8b3f834b6ed9",
   "metadata": {},
   "source": [
    "# Add Measure control\n"
   ]
  },
  {
   "cell_type": "code",
   "execution_count": null,
   "id": "1b8aca34-275d-4e31-8c2c-7af436522d85",
   "metadata": {},
   "outputs": [],
   "source": [
    "m = Map(center=(19.94,-155.04), zoom = 7, basemap= basemaps.Esri.WorldTopoMap)\n",
    "\n",
    "geo_data = GeoData(geo_dataframe = demo_maps, # set the parameters for the map\n",
    "                   style={'color': 'black', 'fillColor': '#3366cc', 'opacity':0.1, 'weight':1.5, 'dashArray':'2', 'fillOpacity':0.7},\n",
    "                   hover_style={'fillColor': 'red' , 'fillOpacity': 0.4},\n",
    "                   name = 'Blocks')\n",
    "\n",
    "measure = MeasureControl(\n",
    "    position='topright',\n",
    "    active_color = 'red',\n",
    "    primary_length_unit = 'miles'\n",
    ") # set parameters for the measure contorl \n",
    "\n",
    "measure.completed_color = 'red'\n",
    "\n",
    "measure.add_length_unit('yards', 1.09361, 4)\n",
    "measure.secondary_length_unit = 'yards'\n",
    "\n",
    "measure.add_area_unit('sqyards', 1.19599, 4)\n",
    "measure.secondary_area_unit = 'sqyards'\n",
    "\n",
    "# add the interactivities to the map\n",
    "m.add_control(measure)\n",
    "m.add_layer(geo_data)\n",
    "m.add_control(LayersControl())\n",
    "\n",
    "m"
   ]
  },
  {
   "cell_type": "markdown",
   "id": "76df4539-3d3a-46b9-a0a6-fa2514ee3036",
   "metadata": {},
   "source": [
    "# Add Drawing function!"
   ]
  },
  {
   "cell_type": "code",
   "execution_count": null,
   "id": "f12f1f8d-1b03-4a15-bb9b-3c558d014fdc",
   "metadata": {},
   "outputs": [],
   "source": [
    "m = Map(center=(19.94,-155.04), zoom = 7, basemap= basemaps.Esri.WorldTopoMap)\n",
    "\n",
    "geo_data = GeoData(geo_dataframe = demo_maps,\n",
    "                   style={'color': 'black', 'fillColor': '#3366cc', 'opacity':0.05, 'weight':1.9, 'dashArray':'2', 'fillOpacity':0.6},\n",
    "                   hover_style={'fillColor': 'red' , 'fillOpacity': 0.2},\n",
    "                   name = 'Blocks')\n",
    "\n",
    "# Add polyline\n",
    "draw_control = DrawControl()\n",
    "draw_control.polyline =  {\n",
    "    \"shapeOptions\": {\n",
    "        \"color\": \"#A52A2A\",\n",
    "        \"weight\": 9,\n",
    "        \"opacity\": 1.2\n",
    "    }\n",
    "}\n",
    "# Add polygon\n",
    "draw_control.polygon = {\n",
    "    \"shapeOptions\": {\n",
    "        \"fillColor\": \"#0000FF\",\n",
    "        \"color\": \"#6be5c3\",\n",
    "        \"fillOpacity\": 1.0\n",
    "    },\n",
    "    \"drawError\": {\n",
    "        \"color\": \"#FF0000\",\n",
    "        \"message\": \"wth!\"\n",
    "    },\n",
    "    \"allowIntersection\": False\n",
    "}\n",
    "# Add circle\n",
    "draw_control.circle = {\n",
    "    \"shapeOptions\": {\n",
    "        \"fillColor\": \"#800000\",\n",
    "        \"color\": \"#7FFD4\",\n",
    "        \"fillOpacity\": 1.0\n",
    "    }\n",
    "}\n",
    "# Add rectangle\n",
    "draw_control.rectangle = {\n",
    "    \"shapeOptions\": {\n",
    "        \"fillColor\": \"#fca45d\",\n",
    "        \"color\": \"#fca45d\",\n",
    "        \"fillOpacity\": 1.0\n",
    "    }\n",
    "}\n",
    "\n",
    "m.add_control(draw_control)\n",
    "m.add_layer(geo_data)\n",
    "\n",
    "m"
   ]
  },
  {
   "cell_type": "markdown",
   "id": "55087bbd-80c5-49b8-baa6-abd457332bc7",
   "metadata": {},
   "source": [
    "# Add widget control"
   ]
  },
  {
   "cell_type": "code",
   "execution_count": null,
   "id": "b5ec50ab-ccfb-40e7-89a3-db6060c890ed",
   "metadata": {},
   "outputs": [],
   "source": [
    "m = Map(center=(19.94,-155.04), zoom = 7, basemap= basemaps.Esri.WorldTopoMap)\n",
    "\n",
    "geo_data = GeoData(geo_dataframe = demo_maps,\n",
    "                   style={'color': 'black', 'fillColor': '#3366cc', 'opacity':0.05, 'weight':1.9, 'dashArray':'2', 'fillOpacity':0.6},\n",
    "                   hover_style={'fillColor': 'red' , 'fillOpacity': 0.2},\n",
    "                   name = 'Blocks')\n",
    "\n",
    "# Add zoom slider function\n",
    "zoom_slider = IntSlider(description='Zoom level:', min=0, max=15, value=7)\n",
    "jslink((zoom_slider, 'value'), (m, 'zoom'))\n",
    "widget_control1 = WidgetControl(widget=zoom_slider, position='topright')\n",
    "m.add_control(widget_control1)\n",
    "\n",
    "# Add color picker function\n",
    "color_picker = ColorPicker(description='Pick a color:')\n",
    "widget_control2 = WidgetControl(widget=color_picker, position='bottomright')\n",
    "\n",
    "m.add_control(widget_control2)\n",
    "m.add_layer(geo_data)\n",
    "\n",
    "m"
   ]
  },
  {
   "cell_type": "markdown",
   "id": "61b4666c-1da5-4b94-a75d-ec53baf3c5e9",
   "metadata": {},
   "source": [
    "# Let's add a legend!"
   ]
  },
  {
   "cell_type": "code",
   "execution_count": null,
   "id": "5ff1e977-cdee-47c0-952f-03b041c58931",
   "metadata": {},
   "outputs": [],
   "source": [
    "m = Map(center=(19.94,-155.04), zoom=7)\n",
    "\n",
    "legend = LegendControl({\"low\":\"#FAA\", \"medium\":\"#A55\", \"High\":\"#500\"}, name=\"Legend\", position=\"bottomright\")\n",
    "m.add_control(legend)\n",
    "\n",
    "\n",
    "# Set legend title\n",
    "legend.name = \"Legend\"  # Set name\n",
    "legend.name  # Get name\n",
    "\n",
    "# Set legend content\n",
    "legend.legends = {\"Land\":\"#FFF\", \"Mountain\":\"#10F92F\", \"Ocean\":\"#10ABF9\"}  # Set content\n",
    "legend.legends  # Get content\n",
    "\n",
    "# legend position\n",
    "legend.position = \"topright\"  # Set position\n",
    "legend.position  # Get current position\n",
    "\n",
    "m"
   ]
  },
  {
   "cell_type": "markdown",
   "id": "f1d5aa6c-bed0-4282-a72a-d0e368940fc0",
   "metadata": {},
   "source": [
    "# How about a search function!!"
   ]
  },
  {
   "cell_type": "code",
   "execution_count": null,
   "id": "bca76163-692a-4129-9e2a-de4bd599dee1",
   "metadata": {},
   "outputs": [],
   "source": [
    "m = Map(zoom=7, center=[19.94,-155.04])\n",
    "\n",
    "# Add marker for the location you are trying to serach\n",
    "marker = Marker(icon=AwesomeIcon(name=\"check\", marker_color='green', icon_color='darkgreen'))\n",
    "\n",
    "# Add search control function\n",
    "m.add_control(SearchControl(\n",
    "  position=\"topleft\",\n",
    "  url='https://nominatim.openstreetmap.org/search?format=json&q={s}',\n",
    "  zoom=5,\n",
    "  marker=marker\n",
    "))\n",
    "\n",
    "m"
   ]
  },
  {
   "cell_type": "markdown",
   "id": "68b470af-9d6c-4ab6-9dce-383bcf8a6fc2",
   "metadata": {},
   "source": [
    "# Add all the things together on a single map!"
   ]
  },
  {
   "cell_type": "code",
   "execution_count": null,
   "id": "2d0766c0-90b4-46bd-ad9e-dfa86bd876e4",
   "metadata": {},
   "outputs": [],
   "source": [
    "m = Map(center=(19.94,-155.04), zoom = 7, basemap= basemaps.Esri.WorldTopoMap)\n",
    "\n",
    "geo_data = GeoData(geo_dataframe = demo_maps,\n",
    "                   style={'color': 'black', 'fillColor': '#3366cc', 'opacity':0.05, 'weight':1.9, 'dashArray':'2', 'fillOpacity':0.6},\n",
    "                   hover_style={'fillColor': 'red' , 'fillOpacity': 0.2},\n",
    "                   name = 'Blocks')\n",
    "measure = MeasureControl(\n",
    "    position='bottomright',\n",
    "    active_color = 'orange',\n",
    "    primary_length_unit = 'kilometers'\n",
    ")\n",
    "\n",
    "\n",
    "measure.completed_color = 'red'\n",
    "\n",
    "measure.add_length_unit('yards', 1.09361, 4)\n",
    "measure.secondary_length_unit = 'yards'\n",
    "\n",
    "measure.add_area_unit('sqyards', 1.19599, 4)\n",
    "measure.secondary_area_unit = 'sqyards'\n",
    "\n",
    "draw_control = DrawControl()\n",
    "draw_control.polyline =  {\n",
    "    \"shapeOptions\": {\n",
    "        \"color\": \"#6bc2e5\",\n",
    "        \"weight\": 8,\n",
    "        \"opacity\": 1.0\n",
    "    }\n",
    "}\n",
    "draw_control.polygon = {\n",
    "    \"shapeOptions\": {\n",
    "        \"fillColor\": \"#6be5c3\",\n",
    "        \"color\": \"#6be5c3\",\n",
    "        \"fillOpacity\": 1.0\n",
    "    },\n",
    "    \"drawError\": {\n",
    "        \"color\": \"#dd253b\",\n",
    "        \"message\": \"Oups!\"\n",
    "    },\n",
    "    \"allowIntersection\": False\n",
    "}\n",
    "draw_control.circle = {\n",
    "    \"shapeOptions\": {\n",
    "        \"fillColor\": \"#efed69\",\n",
    "        \"color\": \"#efed69\",\n",
    "        \"fillOpacity\": 1.0\n",
    "    }\n",
    "}\n",
    "draw_control.rectangle = {\n",
    "    \"shapeOptions\": {\n",
    "        \"fillColor\": \"#fca45d\",\n",
    "        \"color\": \"#fca45d\",\n",
    "        \"fillOpacity\": 1.0\n",
    "    }\n",
    "}\n",
    "\n",
    "zoom_slider = IntSlider(description='Zoom level:', min=0, max=15, value=7)\n",
    "jslink((zoom_slider, 'value'), (m, 'zoom'))\n",
    "widget_control1 = WidgetControl(widget=zoom_slider, position='topright')\n",
    "m.add_control(widget_control1)\n",
    "\n",
    "color_picker = ColorPicker(description='Pick a color:')\n",
    "widget_control2 = WidgetControl(widget=color_picker, position='bottomright')\n",
    "\n",
    "legend = LegendControl({\"low\":\"#FAA\", \"medium\":\"#A55\", \"High\":\"#500\"}, name=\"Legend\", position=\"bottomright\")\n",
    "m.add_control(legend)\n",
    "\n",
    "\n",
    "\n",
    "# Set/Get legend title\n",
    "legend.name = \"Legend\"  # Set name\n",
    "legend.name  # Get name\n",
    "\n",
    "# Set/Get legend content\n",
    "legend.legends = {\"Land\":\"#FFF\", \"Mountain\":\"#10F92F\", \"Ocean\":\"#10ABF9\"}  # Set content\n",
    "legend.legends  # Get content\n",
    "\n",
    "\n",
    "# legend position\n",
    "legend.position = \"topright\"  # Set position\n",
    "legend.position  # Get current position\n",
    "\n",
    "marker = Marker(icon=AwesomeIcon(name=\"check\", marker_color='green', icon_color='darkgreen'))\n",
    "\n",
    "m.add_control(SearchControl(\n",
    "  position=\"topright\",\n",
    "  url='https://nominatim.openstreetmap.org/search?format=json&q={s}',\n",
    "  zoom=5,\n",
    "  marker=marker\n",
    "))\n",
    "\n",
    "m.add_control(measure)\n",
    "m.add_control(widget_control2)\n",
    "m.add_control(draw_control)\n",
    "m.add_control(LayersControl())\n",
    "m.add_layer(geo_data)\n",
    "m"
   ]
  },
  {
   "cell_type": "markdown",
   "id": "7c70a055-645c-44be-9a2b-288d461ff051",
   "metadata": {},
   "source": [
    "# Let's explore some census data!"
   ]
  },
  {
   "cell_type": "markdown",
   "id": "5083e8ff-fb0d-41bd-97be-6f18316438ff",
   "metadata": {},
   "source": [
    "# But first, lets clean some useless columns!"
   ]
  },
  {
   "cell_type": "code",
   "execution_count": null,
   "id": "cb4358f2-6cc1-4538-85c9-731fd50d1d21",
   "metadata": {},
   "outputs": [],
   "source": [
    "medianincome = gpd.read_file(\"Median_Income.shp\") # Read the median income shapefile\n",
    "# Drop useless columns\n",
    "medianincome1 = medianincome.drop(columns=['STATEFP','COUNTYFP','TRACTCE','BLKGRPCE','AFFGEOID','GEOID','NAME','LSAD','ALAND','AWATER','Shape_Leng','Shape_Area','Geoid_dbl','GISJOIN','STATEA','COUNTYA','TRACTA','BLKGRPA','NAME_E','NAME_M','JOIM001','GEOID_1'])\n",
    "medianincome1.rename(columns={\"JOIE001\":\"Median_Income\"}, inplace=True) # Rename column\n",
    "medianincome1"
   ]
  },
  {
   "cell_type": "code",
   "execution_count": null,
   "id": "24cf9595-f764-409d-a867-2a652458d972",
   "metadata": {},
   "outputs": [],
   "source": [
    "# Map it--Median Income\n",
    "medianmap = medianincome1.explore(column=\"Median_Income\", name = \"Median Income\", scheme='naturalbreaks') # display map with desired column from the shapefile\n",
    "folium.LayerControl().add_to(medianmap) # Add layercontrol to the map\n",
    "medianmap\n"
   ]
  },
  {
   "cell_type": "markdown",
   "id": "c49355fb-1b7b-4532-82de-f6ff8ddd9278",
   "metadata": {},
   "source": [
    "# Clean columns for demographic shapefile"
   ]
  },
  {
   "cell_type": "code",
   "execution_count": null,
   "id": "28a20ff6-ebf4-4ceb-bcf1-b52ba1d61aa9",
   "metadata": {},
   "outputs": [],
   "source": [
    "demographic = gpd.read_file(\"Race.shp\") # Read race shapefile\n",
    "# Drop useless columns\n",
    "demographic1 = demographic.drop(columns=['STATEFP','COUNTYFP','TRACTCE','BLKGRPCE','AFFGEOID','GEOID','NAME','LSAD','ALAND','AWATER','Shape_Leng','Shape_Area','geoid_dbl','GISJOIN','YEAR','REGIONA','DIVISIONA','STATEA','COUNTYA','Field9','TRACTA','BLKGRPA','NAME_1','SABINSA','Geoid_1'])\n",
    "demographic1.rename(columns={\"American_I\":\"American_Indian\", \"Native_Haw\":\"Native_Hawaiian\", \"H7X001\":\"Total_Population\"}, inplace=True) # rename some columns\n",
    "demographic1"
   ]
  },
  {
   "cell_type": "markdown",
   "id": "396ff1f1-6344-4217-890e-4963bc315ef1",
   "metadata": {},
   "source": [
    "# Make sure to deselect all the layers in the layer control in the map below first before checking each race!! Otherwise, they will stack all together and the choropleth map will not show the layers correctly."
   ]
  },
  {
   "cell_type": "code",
   "execution_count": null,
   "id": "f17fd323-ede7-4ede-bbab-072c67790e3c",
   "metadata": {},
   "outputs": [],
   "source": [
    "# Demographic\n",
    "\n",
    "demographicmap = folium.Map(location=[19.5666644,-155.499998], zoom_start=7) # Set some basic parameters for map\n",
    "\n",
    "explore_columns = [\"Asian\",\"White\",\"Black\",\"American_Indian\",\"Native_Hawaiian\", \"Other_Race\"] # create a list for the columns that I'm going to show in the map\n",
    "for col_str in explore_columns:  # Using for loop to show layers\n",
    "    demographic1.explore(m=demographicmap, column=col_str, name=col_str, scheme='naturalbreaks') # display desired columns\n",
    "\n",
    "folium.LayerControl().add_to(demographicmap) # Add layer control to the map\n",
    "demographicmap\n",
    "\n",
    "# Notice the layer control has differen layer selection option!\n",
    "# Also, running this code cell is going to take a while because of the 'natural breaks' scheme..."
   ]
  },
  {
   "cell_type": "markdown",
   "id": "2f26f242-268e-42a5-a6d8-7799919a8503",
   "metadata": {},
   "source": [
    "# Clean data for house value"
   ]
  },
  {
   "cell_type": "code",
   "execution_count": null,
   "id": "1d051016-aef0-46f8-a7f4-84abe8821daa",
   "metadata": {},
   "outputs": [],
   "source": [
    "house_value = gpd.read_file(\"house_value.shp\") # Read house value shapefile\n",
    "# Drop useless columns\n",
    "house_value1 = house_value.drop(columns=['STATEFP','COUNTYFP','TRACTCE','BLKGRPCE','AFFGEOID','GEOID','NAME','LSAD','ALAND','AWATER','Shape_Leng','Shape_Area','GISJOIN','STATEA','COUNTYA','TRACTA','BLKGRPA','Geoid_dbl','Field2','Geoid_1'])\n",
    "house_value1.rename(columns={\"JTIE001\":\"House_value\"}, inplace=True) # rename some columns\n",
    "house_value1\n"
   ]
  },
  {
   "cell_type": "code",
   "execution_count": null,
   "id": "2a89b362-a409-4b40-b68d-28c893ae7818",
   "metadata": {},
   "outputs": [],
   "source": [
    "# Map house value\n",
    "housevaluemap = house_value1.explore(column=\"House_value\", name = \"Median House Value\", scheme = \"NaturalBreaks\") # Display desired columns\n",
    "folium.LayerControl().add_to(housevaluemap) # Add layer control to the map\n",
    "housevaluemap"
   ]
  },
  {
   "cell_type": "markdown",
   "id": "e4dd72ef-f7cf-492e-ba28-c5c3dd92cd66",
   "metadata": {},
   "source": [
    "# Now, let's find the relationship between lava hazard and income, demographics, and race data!!"
   ]
  },
  {
   "cell_type": "markdown",
   "id": "c5ed3b5c-2913-4272-9407-e495da8b9849",
   "metadata": {},
   "source": [
    "# First, lets find the top 25% house value in Hawaii"
   ]
  },
  {
   "cell_type": "code",
   "execution_count": null,
   "id": "c46c52c9-2503-4021-a647-084b891d612b",
   "metadata": {},
   "outputs": [],
   "source": [
    "house_value1['House_value'].plot(kind='box') # Plot the boxplot to see the value\n",
    "house_value1.House_value.quantile([0.25,0.5,0.75]) # Get the precise value of top 25%\n"
   ]
  },
  {
   "cell_type": "markdown",
   "id": "5c53d660-3a9a-4c3c-bee4-41c6a0c126cf",
   "metadata": {},
   "source": [
    "It seems like the top 25% is about 654100 dollars."
   ]
  },
  {
   "cell_type": "markdown",
   "id": "640297af-8570-422b-bd2f-62319109b162",
   "metadata": {},
   "source": [
    "# Plot the rich blocks in Hawaii County (big island)"
   ]
  },
  {
   "cell_type": "code",
   "execution_count": null,
   "id": "969ce9d0-03b9-4c1a-b3cb-fed519cb0f1c",
   "metadata": {},
   "outputs": [],
   "source": [
    "# house_value1.House_value.idxmax()\n",
    "# richest =house_value1['House_value'][59] # Assign richest as a variable to the house_value of the richest blocks\n",
    "rich_blocks = house_value1[(house_value1.House_value >654100) & (house_value1.COUNTY=='Hawaii County')].plot(figsize = (15,15)) # Plot the top 25% area\n"
   ]
  },
  {
   "cell_type": "markdown",
   "id": "370dad23-2ba8-4151-a17c-0f426b8c9718",
   "metadata": {},
   "source": [
    "# Lets see them in a map!"
   ]
  },
  {
   "cell_type": "code",
   "execution_count": null,
   "id": "6ad61fca-c1dd-4c8d-8882-ed37e6e105c8",
   "metadata": {},
   "outputs": [],
   "source": [
    "rich_blocks1 = house_value1[(house_value1.House_value >654100) & (house_value1.COUNTY=='Hawaii County')] # make rich block only in Hwaii county and has a house value that is greater than top 25%\n",
    "rich_blocks_map = rich_blocks1.explore(column=\"House_value\", name = \"Median House Value\", scheme='naturalbreaks') # Display desired column\n",
    "folium.LayerControl().add_to(rich_blocks_map) # Add layer control to the map\n",
    "rich_blocks_map"
   ]
  },
  {
   "cell_type": "markdown",
   "id": "21a9d9c3-bf0d-4b81-8cee-c5621b7f0e8d",
   "metadata": {},
   "source": [
    "# Overlay Function-- to see the relations between the two layers"
   ]
  },
  {
   "cell_type": "code",
   "execution_count": null,
   "id": "15885647-e56c-4144-822e-cfd1f25335fe",
   "metadata": {},
   "outputs": [],
   "source": [
    "Lava_hazard = gpd.read_file(\"lava_hazard.shp\") # Read lava hazard shapefile\n",
    "overlay = gpd.overlay(rich_blocks1, Lava_hazard, 'union') # using overlay function\n",
    "overlaymap = folium.Map(location=[19.5666644,-155.499998], zoom_start=7) # Assign variable to create a map\n",
    "explore_columns1 = [\"House_value\",\"SEVERITYCO\"]\n",
    "for col_str1 in explore_columns1: # Using for loops to explore the overlay layers\n",
    "    overlay.explore(m=overlaymap, column=col_str1, scheme='naturalbreaks')\n",
    "\n",
    "folium.LayerControl().add_to(overlaymap)    \n",
    "overlaymap"
   ]
  },
  {
   "cell_type": "markdown",
   "id": "4bdf8652-cac6-40aa-80cb-5417967ec140",
   "metadata": {},
   "source": [
    "# Now, let's see the relationship between income and lava hazard!"
   ]
  },
  {
   "cell_type": "markdown",
   "id": "6f9f87a7-d98c-49fc-acd5-7f07bb594425",
   "metadata": {},
   "source": [
    "First, lets find top 30% income people in Hawaii."
   ]
  },
  {
   "cell_type": "code",
   "execution_count": null,
   "id": "12178c50-719d-4662-afb8-cd58a9ba21e2",
   "metadata": {},
   "outputs": [],
   "source": [
    "medianincome1['Median_Income'].plot(kind='box') # Plot the boxplot to see the value\n",
    "medianincome1.Median_Income.quantile([0.25,0.5,0.70]) # Get the precise value of top 25%"
   ]
  },
  {
   "cell_type": "markdown",
   "id": "746e6272-7339-40d1-a7e0-0aadf89664aa",
   "metadata": {},
   "source": [
    "\n",
    "Plot the rich blocks in Hawaii County (big island)"
   ]
  },
  {
   "cell_type": "code",
   "execution_count": null,
   "id": "ba836632-b9eb-41a0-9c13-c764c6005b98",
   "metadata": {},
   "outputs": [],
   "source": [
    "income_blocks = medianincome1[(medianincome1.Median_Income >= 83028) & (medianincome1.COUNTY=='Hawaii County')].plot(figsize = (15,15)) # Plot the top 25% area"
   ]
  },
  {
   "cell_type": "code",
   "execution_count": null,
   "id": "1be67ff9-09a8-4574-83ac-fb642877d773",
   "metadata": {},
   "outputs": [],
   "source": [
    "rich_blocks2 = medianincome1[(medianincome1.Median_Income > 83028) & (medianincome1.COUNTY=='Hawaii County')] # make rich block only in Hwaii county and has a house value that is greater than top 25%\n",
    "rich_blocks_map1 = rich_blocks2.explore(column=\"Median_Income\", name = \"Median Income\", scheme='naturalbreaks') # Assign variable to display desired column on a map\n",
    "folium.LayerControl().add_to(rich_blocks_map1)\n",
    "rich_blocks_map1"
   ]
  },
  {
   "cell_type": "markdown",
   "id": "cb16ae3b-9f27-44bc-a222-7feaa62fe5b2",
   "metadata": {},
   "source": [
    "# Overlay median income and lava hazard shapefile to see if there is any correlation "
   ]
  },
  {
   "cell_type": "code",
   "execution_count": null,
   "id": "6abae483-148c-4666-b831-560516f7d5ea",
   "metadata": {},
   "outputs": [],
   "source": [
    "overlay1 = gpd.overlay(rich_blocks2, Lava_hazard, 'union') # using overlay function\n",
    "overlaymap1 = folium.Map(location=[19.5666644,-155.499998], zoom_start=7) # Assign variable to display map\n",
    "\n",
    "explore_columns2 = [\"SEVERITYCO\",\"Median_Income\"]\n",
    "for col_str2 in explore_columns2: # Using for loops to explore the overlay layers\n",
    "    overlay1.explore(m=overlaymap1, column=col_str2, scheme='naturalbreaks') # display columns from the loop\n",
    "    \n",
    "folium.LayerControl().add_to(overlaymap1)   # Add layer control to the map\n",
    "overlaymap1"
   ]
  },
  {
   "cell_type": "markdown",
   "id": "9f0673e5-ce37-4ba4-9471-97c519732cf7",
   "metadata": {},
   "source": [
    "# Lastly, let's explore demographic relationship with lava hazard!"
   ]
  },
  {
   "cell_type": "markdown",
   "id": "292938c9-b9c7-47cf-9c70-209252a209d6",
   "metadata": {},
   "source": [
    "First, gotta do some data manipulation."
   ]
  },
  {
   "cell_type": "code",
   "execution_count": null,
   "id": "a9a511bb-58d7-436f-aa50-1f920c86ec2b",
   "metadata": {},
   "outputs": [],
   "source": [
    "demographic1['percent_color'] = (demographic1[\"Asian\"] + demographic1[\"Black\"] + demographic1[\"American_Indian\"] + demographic1[\"Native_Hawaiian\"] + demographic1[\"Other_Race\"]) / demographic1[\"Total_Population\"] # Get the percentage of population of people of color\n",
    "demographic1.fillna(0) # fill the NaN value to 0"
   ]
  },
  {
   "cell_type": "markdown",
   "id": "c35b8048-7cc9-490e-8169-4e8c505ad177",
   "metadata": {
    "tags": []
   },
   "source": [
    "Now, display the people of color as percentage to the total population on a map."
   ]
  },
  {
   "cell_type": "code",
   "execution_count": null,
   "id": "d00edc08-569a-479d-b1ad-f4e02cf60e92",
   "metadata": {},
   "outputs": [],
   "source": [
    "big_island_ppl = demographic1[(demographic1.COUNTY=='Hawaii County')] # Make a new list that has only Hawaii County demographic data\n",
    "ppl_color_map = big_island_ppl.explore(column=\"percent_color\", name = \"People of color\", scheme='naturalbreaks') # Display the desired column in a map\n",
    "ppl_color_map"
   ]
  },
  {
   "cell_type": "markdown",
   "id": "e03a3921-adb4-4b62-b1e6-c972857151a6",
   "metadata": {},
   "source": [
    "Now overlay lava hazard and demographic layer"
   ]
  },
  {
   "cell_type": "code",
   "execution_count": null,
   "id": "157c4997-10df-4f33-8109-c6f4ac237b92",
   "metadata": {},
   "outputs": [],
   "source": [
    "overlay2 = gpd.overlay(big_island_ppl, Lava_hazard, 'union') # using overlay function\n",
    "overlaymap2 = folium.Map(location=[19.5666644,-155.499998], zoom_start=7) # Craete a map\n",
    "\n",
    "explore_columns3 = [\"SEVERITYCO\",\"percent_color\"]\n",
    "for col_str3 in explore_columns3: # Using for loops to explore the overlay layers\n",
    "    overlay2.explore(m=overlaymap2, column=col_str3, scheme='naturalbreaks') # Display the desired column on a map\n",
    "    \n",
    "folium.LayerControl().add_to(overlaymap2)   # Add layer control to my map\n",
    "overlaymap2"
   ]
  },
  {
   "cell_type": "code",
   "execution_count": null,
   "id": "f0e25155-5028-4726-bbf9-bf86917f1893",
   "metadata": {},
   "outputs": [],
   "source": []
  }
 ],
 "metadata": {
  "kernelspec": {
   "display_name": "Python 3 (ipykernel)",
   "language": "python",
   "name": "python3"
  },
  "language_info": {
   "codemirror_mode": {
    "name": "ipython",
    "version": 3
   },
   "file_extension": ".py",
   "mimetype": "text/x-python",
   "name": "python",
   "nbconvert_exporter": "python",
   "pygments_lexer": "ipython3",
   "version": "3.9.7"
  }
 },
 "nbformat": 4,
 "nbformat_minor": 5
}
